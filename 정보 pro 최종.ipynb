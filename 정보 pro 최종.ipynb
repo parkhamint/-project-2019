a = int(input('원자 번호를 입력해주세요 : '))
b = int(input('가수를 입력해주세요 : '))
c = a+b

def f(n) :
    x = n[1]
    if x == 's' :
        return 2
    if x == 'p' :
        return 6
    if x == 'd' :
        return 10
    if x == 'f' :
        return 14
    
y = ['1s','2s','2p','3s','3p','4s','3d','4p','5s','4d','5p','6s','4f','5d','6p','7s','5f','6d','7p','8s']
z = []
msg = ''

for i in y :
    if c>int(f(i)) or c == int(f(i)) :
        c = c-f(i)
        z.append(f(i))
    
    else :
        z.append(c)
        break

if len(z) == 7 :
    if z[-1] == 4 or z[-1] == 9 :
        z[-2] = int(z[-2])-1
        z[-1] = int(z[-1])+1

if len(z) == 10 :
    if z[-1] == 4 or z[-1] == 9 :
        z[-2] = int(z[-2])-1
        z[-1] = int(z[-1])+1

if len(z) == 14 :
    if z[-1] == 4 or z[-1] == 9 :
        z[-2] = int(z[-2])-1
        z[-1] = int(z[-1])+1

if len(z) == 18 :
    if z[-1] == 4 or z[-1] == 9 :
        z[-2] = int(z[-2])-1
        z[-1] = int(z[-1])+1

for i in range(len(z)) :
    msg = msg + y[i] + str(z[i]) + ' '
    
print(msg)
